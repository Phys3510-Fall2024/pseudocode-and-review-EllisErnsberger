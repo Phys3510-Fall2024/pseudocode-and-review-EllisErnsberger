{
 "cells": [
  {
   "cell_type": "markdown",
   "id": "7db32a4a-c9a6-49fc-be7d-697bda4b6a81",
   "metadata": {},
   "source": [
    "## Pseudocode\n",
    "\n",
    "### What is Pseudocode?\n",
    "Pseudocode is a simplified and structured way to represent algorithms or solutions to problems without relying on the specific syntax of any programming language. It uses plain language and a logical structure to outline the steps in a program.\n",
    "\n",
    "### Why Use Pseudocode?\n",
    "1. **Organizing your thoughts/strategy** By thinking through the steps of a solution, you'll fine-tune your approach.\n",
    "2. **Language Independence:** Pseudocode focuses on the *logic* of the algorithm rather than implementation details, making it accessible regardless of the programming language.\n",
    "3. **Problem Decomposition:** It breaks a problem into smaller, manageable parts before coding, aiding in planning and understanding.\n",
    "4. **Collaborative Understanding:** Since pseudocode is language-agnostic, it can be easily understood by both programmers and non-programmers.\n",
    "\n",
    "---\n",
    "\n",
    "### Example: Motion in a 2D Anharmonic Oscillator\n",
    "\n",
    "**Problem:**  \n",
    "Simulate the motion of a particle in a 2D anharmonic oscillator potential:  \n",
    "\n",
    "$$\n",
    "V(x, y) = \\frac{1}{2}k(x^2 + y^2) + \\alpha (x^4 + y^4)\n",
    "$$\n",
    "\n",
    "where \\(k\\) is the harmonic constant and $\\alpha$ is the anharmonic constant.\n",
    "\n",
    "---\n",
    "\n",
    "### Example pseudocode for this problem:\n",
    "1. **Define constants**: Harmonic constant ($k$), anharmonic constant ($\\alpha$), mass ($m$), and time step ($\\Delta t$).\n",
    "2. **Initialize variables**:\n",
    "   - Initial position ($x_0, y_0$).\n",
    "   - Initial velocity ($v_{x0}, v_{y0}$).\n",
    "3. **Set up a first-order system of equations** to feed into a differential equation solver:\n",
    "   - Compute the force components using derivatives of the potential:\n",
    "     $$\n",
    "     F_x = -\\frac{\\partial V}{\\partial x}, \\quad F_y = -\\frac{\\partial V}{\\partial y}\n",
    "     $$\n",
    "   - Define a function which takes in positions and velocities and outputs their time derivatives.\n",
    "4. **Use a differential equation solver** to integrate the system over time:\n",
    "   - Pass the function and initial conditions to the solver.\n",
    "5. **Extract the results**:\n",
    "   - Retrieve positions ($x, y$) at each time step.\n",
    "6. **Plot the trajectory** of the particle in the 2D plane.\n",
    "7. **Explore physics and test code** by adjusting parameters. (e.g. for $\\alpha=0$ we have an analytical solution for comparison, which we could plot alongside the numerical results to evaluate accuracy. We could also superimpose the trajectories on a contour plot of the potential energy to test our understanding.)\n",
    "\n",
    "---\n",
    "\n",
    "### Key Takeaways:\n",
    "1. The pseudocode above is **independent of programming language**. You could implement it in Python, C++, Java, or any other language with minor modifications.\n",
    "2. By focusing on the *logic* of the algorithm, pseudocode ensures that the solution is robust and adaptable to any programming environment.\n",
    "3. Translating this pseudocode into Python or any other language would involve writing loops, handling arrays, and using basic arithmetic operations.\n",
    "\n",
    "---"
   ]
  },
  {
   "cell_type": "code",
   "execution_count": 2,
   "id": "f83c7db5-0ecf-4667-bc9b-0a07ea6579ea",
   "metadata": {},
   "outputs": [],
   "source": [
    "# pseudocode for python\n",
    "# import needed packages\n",
    "# define constants\n",
    "# derive system of equations (analytic or sympy, or both for comparison)\n",
    "# define first-order system of equations as a custom function\n",
    "# initialize positions and velocities\n",
    "# solve with differential eqaution solver\n",
    "# extract solution\n",
    "# plot trajectories\n",
    "# embed code in ipywidgets environment to explore physics and code"
   ]
  },
  {
   "cell_type": "code",
   "execution_count": 4,
   "id": "fd8c90c0-8ce5-4b74-9c42-ee23a6bf6a10",
   "metadata": {},
   "outputs": [],
   "source": [
    "# expanded pseudocode for python\n",
    "\n",
    "# import necessary packages\n",
    "# e.g., numpy, matplotlib, scipy.integrate, ipywidgets\n",
    "\n",
    "# define constants (k, alpha, m, delta_t or number of timesteps)\n",
    "\n",
    "# derive system of equations\n",
    "# e.g., analytical approach or use sympy to compute derivatives of the potential\n",
    "\n",
    "# define first-order system of equations as a function\n",
    "# Input: positions, velocities, time\n",
    "# Output: time derivatives\n",
    "\n",
    "# initialize positions, velocities, and time span\n",
    "\n",
    "# solve the system using a differential equation solver\n",
    "# e.g., scipy.integrate.solve_ivp\n",
    "\n",
    "# extract the solution\n",
    "# (positions and velocities over time)\n",
    "\n",
    "# plot results:\n",
    "# - trajectory (x, y) in 2D\n",
    "# - contour plot of the potential energy with trajectory overlay\n",
    "# - compare numerical trajectory with analytical solution (if applicable)\n",
    "\n",
    "# embed in an ipywidgets environment\n",
    "# add sliders for k, alpha, m, delta_t, etc., to explore parameter effects\n"
   ]
  },
  {
   "cell_type": "markdown",
   "id": "5f5d6b6e-1aad-4353-8cab-b75b8ba3e43b",
   "metadata": {},
   "source": [
    "# Write pseudocode for the following problem\n",
    "\n",
    "On our second midterm and in the following classes, we explored the dynamics of anharmonic oscillators by numerically extracting the angular frequency as a function of the initial displacement of the oscillator, $Q_0$. Now that we have some experience with this sort of problem, we can apply the approach to other problems.\n",
    "\n",
    "Write pseudocode and expanded pseudocode for extracting and plotting the angular frequency of an anharmonic oscillator with the potential energy \n",
    "\n",
    "$$U = \\frac{1}{2} K Q^2 - \\frac{1}{4} D Q^4 + \\frac{1}{6} \\Phi Q^6,$$\n",
    "\n",
    "where $K$, $D$, and $\\Phi$ are positive. \n",
    "\n",
    "How do you think changing the value of D will change the behavior? You may want to plot the potential and explore what happens as you change $D$ to help you think though a strategy."
   ]
  },
  {
   "cell_type": "markdown",
   "id": "93271310-3cb5-4698-8c58-5b63aa37403b",
   "metadata": {},
   "source": [
    "## Pseudocode for Python"
   ]
  },
  {
   "cell_type": "code",
   "execution_count": 3,
   "id": "f698c187-ee75-4e44-8d6d-eb4c6e6bac51",
   "metadata": {},
   "outputs": [],
   "source": [
    "# Import packages\n",
    "# Define inputs\n",
    "# Get equations of motion (analytically, numerically, or both)\n",
    "# Solve for dynamics\n",
    "# Extract period and frequency\n",
    "# Plot frequency vs. amplitude\n",
    "# Explore physical relationship of variables with interactive feature"
   ]
  },
  {
   "cell_type": "markdown",
   "id": "2349c306-7efc-4675-9068-593f8e1b5da9",
   "metadata": {},
   "source": [
    "## Expanded Pseudocode for Python"
   ]
  },
  {
   "cell_type": "code",
   "execution_count": 4,
   "id": "47157b71-58be-4f81-8e06-2420ccb26bb3",
   "metadata": {},
   "outputs": [],
   "source": [
    "# Import packages\n",
    "# - sympy, scipy, numpy, matplotlib, jpywidgets\n",
    "\n",
    "# Define inputs\n",
    "# - set parameters: K, D, phi > 0\n",
    "# - define potential energy function\n",
    "\n",
    "# Get equations of motion (analytically, numerically, or both)\n",
    "# - compute force\n",
    "# - formulate equation of motion\n",
    "\n",
    "# Solve for dynamics\n",
    "# - set initial conditions: Q_0, v_0\n",
    "# - use scipy.integrate.solve_ivp to solve for equation of motion numerically\n",
    "\n",
    "# Extract period and frequency\n",
    "# - calculate period for various amplitudes using numerical equation of motion\n",
    "# - compute angular frequency\n",
    "\n",
    "# Plot frequency vs. amplitude\n",
    "# - plot angular frequency (y-axis) vs. amplitude (x-axis)\n",
    "# - compare numerical and analytic solutions\n",
    "\n",
    "# Explore physical relationship of variables with interactive feature\n",
    "# - add sliders using jpywidgets for K, D, phi, ...\n",
    "# - observe the changes in the relationship between frequency and amplitude"
   ]
  },
  {
   "cell_type": "markdown",
   "id": "5a6b3503-4331-466d-921f-ad10b6dd4eba",
   "metadata": {},
   "source": [
    "## Significance of $D$"
   ]
  },
  {
   "cell_type": "code",
   "execution_count": 13,
   "id": "87f2bd7e-dd41-4a96-a58d-cfc835d85c67",
   "metadata": {},
   "outputs": [
    {
     "data": {
      "application/vnd.jupyter.widget-view+json": {
       "model_id": "60dea5676b19465997e857ee9c87ba84",
       "version_major": 2,
       "version_minor": 0
      },
      "text/plain": [
       "interactive(children=(FloatSlider(value=1.0, description='K', max=5.0, min=0.1), FloatSlider(value=0.1, descri…"
      ]
     },
     "metadata": {},
     "output_type": "display_data"
    },
    {
     "data": {
      "text/plain": [
       "<function __main__.plot_potential(K=1.0, D=0.1, phi=0.01, Q_min=-2, Q_max=2)>"
      ]
     },
     "execution_count": 13,
     "metadata": {},
     "output_type": "execute_result"
    }
   ],
   "source": [
    "# Import packages\n",
    "import sympy as sp\n",
    "import numpy as np\n",
    "from scipy.integrate import solve_ivp\n",
    "import matplotlib.pyplot as plt\n",
    "from ipywidgets import interact, FloatSlider\n",
    "\n",
    "def plot_potential(K=1.0, D=0.1, phi=0.01, Q_min=-2, Q_max=2):\n",
    "    Q_vals = np.linspace(Q_min, Q_max, 500)  # Generate Q values in the specified range\n",
    "    V_vals = (1/2) * K * Q_vals**2 - (1/4) * D * Q_vals**4 + (1/6) * phi * Q_vals**6\n",
    "\n",
    "    plt.figure(figsize=(8, 6))\n",
    "    plt.plot(Q_vals, V_vals, label=f\"K={K}, D={D}, phi={phi}\")\n",
    "    plt.axhline(0, color='black', linestyle='--', linewidth=0.8)\n",
    "    plt.axvline(0, color='black', linestyle='--', linewidth=0.8)\n",
    "    plt.xlabel(\"Displacement (Q)\")\n",
    "    plt.ylabel(\"Potential Energy V(Q)\")\n",
    "    plt.title(\"Potential Energy Function\")\n",
    "    plt.legend()\n",
    "    plt.grid(True)\n",
    "    plt.show()\n",
    "\n",
    "# Interactive Plot\n",
    "interact(plot_potential,\n",
    "         K=FloatSlider(value=1.0, min=0.1, max=5.0, step=0.1, description=\"K\"),\n",
    "         D=FloatSlider(value=0.1, min=0.01, max=1.0, step=0.01, description=\"D\"),\n",
    "         phi=FloatSlider(value=0.01, min=0.001, max=0.1, step=0.001, description=\"phi\"),\n",
    "         Q_min=FloatSlider(value=-5.0, min=-10.0, max=0.0, step=0.1, description=\"Q_min\"),\n",
    "         Q_max=FloatSlider(value=5.0, min=0.0, max=10.0, step=0.1, description=\"Q_max\"))"
   ]
  },
  {
   "cell_type": "markdown",
   "id": "864910ff-e49d-46e4-ba30-0ee7bb829ee8",
   "metadata": {},
   "source": [
    "#### How does changing the value of $D$ affect the behavior?\n",
    "\n",
    "As $D$ is increased, the fourth-order term $Q^4$ begins to have a stronger effect on the potential energy, resulting in a deepening of the potential energy well and a steeper slope for small values of $Q$. As $D$ is pushed toward a value of 0, the potential energy functions becomes $\\frac{1}{2} K Q^2 + \\frac{1}{6} \\phi Q^6$, and the system becomes less anharmonic for small values of $Q$. For large values of $Q$, however, the sixth-order term $Q^6$ takes over. Since deep wells result in a stronger restoring force and higher frequency, increasing $D$ will produce a higher frequency for the oscillator. Conversely, decreasing $D$ will produce a lower frequency."
   ]
  }
 ],
 "metadata": {
  "kernelspec": {
   "display_name": "Python 3 (ipykernel)",
   "language": "python",
   "name": "python3"
  },
  "language_info": {
   "codemirror_mode": {
    "name": "ipython",
    "version": 3
   },
   "file_extension": ".py",
   "mimetype": "text/x-python",
   "name": "python",
   "nbconvert_exporter": "python",
   "pygments_lexer": "ipython3",
   "version": "3.9.19"
  }
 },
 "nbformat": 4,
 "nbformat_minor": 5
}
